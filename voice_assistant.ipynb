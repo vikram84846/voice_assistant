{
 "cells": [
  {
   "cell_type": "code",
   "execution_count": 1,
   "id": "0a2c50cc",
   "metadata": {},
   "outputs": [],
   "source": [
    "import os\n",
    "import webbrowser\n",
    "import speech_recognition as sr\n",
    "import pyttsx3"
   ]
  },
  {
   "cell_type": "code",
   "execution_count": 2,
   "id": "9514b5d1",
   "metadata": {},
   "outputs": [],
   "source": [
    "engine = pyttsx3.init()\n",
    "\n",
    "def speak(text):\n",
    "    engine.say(text)\n",
    "    engine.runAndWait()\n",
    "\n",
    "def listen_command():\n",
    "    recognizer = sr.Recognizer()\n",
    "    with sr.Microphone() as source:\n",
    "        print(\"Listening...\")\n",
    "        try:\n",
    "            audio = recognizer.listen(source, timeout=5, phrase_time_limit=5)\n",
    "            command = recognizer.recognize_google(audio).lower()\n",
    "            print(f\"You said: {command}\")\n",
    "            return command\n",
    "        except sr.UnknownValueError:\n",
    "            speak(\"Sorry, I didn't catch that. Please repeat.\")\n",
    "        except sr.RequestError:\n",
    "            speak(\"Network error.\")\n",
    "        except Exception as e:\n",
    "            print(e)\n",
    "            speak(\"An error occurred.\")\n",
    "        return \"\"\n",
    "\n",
    "def execute_command(command):\n",
    "    if \"open google\" in command:\n",
    "        speak(\"Opening Google.\")\n",
    "        os.system(\"start chrome www.google.com\")\n",
    "    elif \"play song\" in command:\n",
    "        speak(\"Playing a song on YouTube.\")\n",
    "        webbrowser.open(\"https://www.youtube.com/results?search_query=relaxing+music\")\n",
    "    elif \"open notepad\" in command:\n",
    "        speak(\"Opening Notepad.\")\n",
    "        os.system(\"notepad\")\n",
    "    elif \"open calculator\" in command:\n",
    "        speak(\"Opening Calculator.\")\n",
    "        os.system(\"calc\")\n",
    "    elif \"quit\" in command or \"exit\" in command:\n",
    "        speak(\"Goodbye!\")\n",
    "        exit()\n",
    "    else:\n",
    "        speak(\"I didn't understand that command.\")\n",
    "\n"
   ]
  },
  {
   "cell_type": "code",
   "execution_count": null,
   "id": "720b66e3",
   "metadata": {},
   "outputs": [
    {
     "name": "stdout",
     "output_type": "stream",
     "text": [
      "Listening...\n"
     ]
    }
   ],
   "source": [
    "def main():\n",
    "    speak(\"Virtual Assistant activated. You can give commands directly.\")\n",
    "    assistant_status = True\n",
    "    while assistant_status:\n",
    "        command = listen_command()\n",
    "        if command == \"exit\" or \"quit\":\n",
    "            execute_command(command)\n",
    "            assistant_status = False\n",
    "        \n",
    "if __name__ == \"__main__\":\n",
    "    main()\n",
    "\n"
   ]
  },
  {
   "cell_type": "code",
   "execution_count": null,
   "id": "f38c9c83",
   "metadata": {},
   "outputs": [],
   "source": []
  },
  {
   "cell_type": "code",
   "execution_count": null,
   "id": "b6682d21",
   "metadata": {},
   "outputs": [],
   "source": []
  }
 ],
 "metadata": {
  "kernelspec": {
   "display_name": "Python 3 (ipykernel)",
   "language": "python",
   "name": "python3"
  },
  "language_info": {
   "codemirror_mode": {
    "name": "ipython",
    "version": 3
   },
   "file_extension": ".py",
   "mimetype": "text/x-python",
   "name": "python",
   "nbconvert_exporter": "python",
   "pygments_lexer": "ipython3",
   "version": "3.10.9"
  }
 },
 "nbformat": 4,
 "nbformat_minor": 5
}
